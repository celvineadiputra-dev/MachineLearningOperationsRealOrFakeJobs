{
 "cells": [
  {
   "cell_type": "code",
   "execution_count": null,
   "metadata": {},
   "outputs": [],
   "source": [
    "import os\n",
    "import pandas as pd\n",
    "import matplotlib.pyplot as plt\n",
    "import tensorflow as tf\n",
    "\n",
    "from tfx.components import CsvExampleGen, StatisticsGen, SchemaGen, ExampleValidator, Transform, Trainer, Tuner\n",
    "from tfx.proto import example_gen_pb2\n",
    "from tfx.orchestration.experimental.interactive.interactive_context import InteractiveContext\n",
    "from utils import clean_text, normalize_text"
   ]
  },
  {
   "cell_type": "code",
   "execution_count": null,
   "metadata": {},
   "outputs": [],
   "source": [
    "DATA_ROOT = \"dataset\"\n",
    "DATA_CLEAN = \"data\""
   ]
  },
  {
   "cell_type": "markdown",
   "source": [
    "# Prepare data"
   ],
   "metadata": {
    "collapsed": false
   }
  },
  {
   "cell_type": "code",
   "outputs": [],
   "source": [
    "dataset = pd.read_csv(DATA_ROOT + \"/fake_job_postings.csv\")"
   ],
   "metadata": {
    "collapsed": false
   }
  },
  {
   "cell_type": "code",
   "outputs": [],
   "source": [
    "dataset.head()"
   ],
   "metadata": {
    "collapsed": false
   }
  },
  {
   "cell_type": "code",
   "outputs": [],
   "source": [
    "dataset.info()"
   ],
   "metadata": {
    "collapsed": false
   }
  },
  {
   "cell_type": "code",
   "outputs": [],
   "source": [
    "dataset.dropna(inplace=True)"
   ],
   "metadata": {
    "collapsed": false
   }
  },
  {
   "cell_type": "code",
   "outputs": [],
   "source": [
    "dataset = dataset.drop(columns=['job_id', 'telecommuting', 'has_questions', 'has_company_logo'])"
   ],
   "metadata": {
    "collapsed": false
   }
  },
  {
   "cell_type": "code",
   "outputs": [],
   "source": [
    "df = dataset"
   ],
   "metadata": {
    "collapsed": false
   }
  },
  {
   "cell_type": "code",
   "outputs": [],
   "source": [
    "df.head()"
   ],
   "metadata": {
    "collapsed": false
   }
  },
  {
   "cell_type": "markdown",
   "source": [
    "# Information about data"
   ],
   "metadata": {
    "collapsed": false
   }
  },
  {
   "cell_type": "code",
   "outputs": [],
   "source": [
    "fraudulent = df[df['fraudulent'] == 1]['fraudulent'].count()\n",
    "non_fraudulent = df[df['fraudulent'] == 0]['fraudulent'].count()"
   ],
   "metadata": {
    "collapsed": false
   }
  },
  {
   "cell_type": "code",
   "outputs": [],
   "source": [
    "fig = plt.figure(figsize=(10, 5))\n",
    "\n",
    "plt.bar(['fraudulent', 'non fraudulent'], [fraudulent, non_fraudulent], color=['#d81159', '#00a6fb'])\n",
    "\n",
    "plt.text(0, fraudulent, fraudulent, ha='center', va='bottom', fontsize=12)\n",
    "plt.text(1, non_fraudulent, non_fraudulent, ha='center', va='bottom', fontsize=12)\n",
    "\n",
    "plt.title(\"Information about fraudulent and non fraudulent jobs\")\n",
    "plt.xlabel(\"Type of job\")\n",
    "plt.ylabel(\"Number of fraudulent and non fraudulent jobs\")\n",
    "plt.show()"
   ],
   "metadata": {
    "collapsed": false
   }
  },
  {
   "cell_type": "markdown",
   "source": [
    ".\n",
    "___"
   ],
   "metadata": {
    "collapsed": false
   }
  },
  {
   "cell_type": "code",
   "outputs": [],
   "source": [
    "employment_type = df.groupby(['employment_type'])['employment_type'].count()\n",
    "employment_type_key = list(employment_type.keys())\n",
    "employment_type_value = list(employment_type.values)"
   ],
   "metadata": {
    "collapsed": false
   }
  },
  {
   "cell_type": "code",
   "outputs": [],
   "source": [
    "fig = plt.figure(figsize=(10, 5))\n",
    "\n",
    "plt.bar(employment_type_key, employment_type_value, color=\"#00a6fb\")\n",
    "\n",
    "for i in range(len(employment_type_key)):\n",
    "    plt.text(i, employment_type_value[i], employment_type_value[i], ha='center', va='bottom', fontsize=12)\n",
    "\n",
    "plt.title(\"Information about employment type\")\n",
    "plt.xlabel(\"Employment type\")\n",
    "plt.ylabel(\"Number of employment type\")\n",
    "plt.show()"
   ],
   "metadata": {
    "collapsed": false
   }
  },
  {
   "cell_type": "code",
   "outputs": [],
   "source": [
    ".\n",
    "___"
   ],
   "metadata": {
    "collapsed": false,
    "is_executing": true
   }
  },
  {
   "cell_type": "code",
   "outputs": [],
   "source": [
    "required_experience = df.groupby(['required_experience'])['required_experience'].count()\n",
    "required_experience_key = list(required_experience.keys())\n",
    "required_experience_value = list(required_experience.values)"
   ],
   "metadata": {
    "collapsed": false
   }
  },
  {
   "cell_type": "code",
   "outputs": [],
   "source": [
    "fig = plt.figure(figsize=(10, 5))\n",
    "\n",
    "plt.bar(required_experience_key, required_experience_value, color=\"#00a6fb\")\n",
    "\n",
    "for i in range(len(required_experience_key)):\n",
    "    plt.text(i, required_experience_value[i], required_experience_value[i], ha='center', va='bottom', fontsize=12)\n",
    "\n",
    "plt.title(\"Information about required experience\")\n",
    "plt.xlabel(\"Required experience\")\n",
    "plt.ylabel(\"Number of required experience\")\n",
    "plt.show()"
   ],
   "metadata": {
    "collapsed": false
   }
  },
  {
   "cell_type": "markdown",
   "source": [
    ".\n",
    "___"
   ],
   "metadata": {
    "collapsed": false
   }
  },
  {
   "cell_type": "code",
   "outputs": [],
   "source": [
    "required_education = df.groupby(['required_education'])['required_education'].count()\n",
    "required_education_key = list(required_education.keys())\n",
    "required_education_value = list(required_education.values)"
   ],
   "metadata": {
    "collapsed": false
   }
  },
  {
   "cell_type": "code",
   "outputs": [],
   "source": [
    "fig = plt.figure(figsize=(20, 5))\n",
    "\n",
    "plt.bar(required_education_key, required_education_value, color=\"#00a6fb\")\n",
    "\n",
    "for i in range(len(required_education_key)):\n",
    "    plt.text(i, required_education_value[i], required_education_value[i], ha='center', va='bottom', fontsize=12)\n",
    "\n",
    "plt.title(\"Information about required education\")\n",
    "plt.xlabel(\"Required education\")\n",
    "plt.ylabel(\"Number of required education\")\n",
    "plt.show()"
   ],
   "metadata": {
    "collapsed": false
   }
  },
  {
   "cell_type": "markdown",
   "source": [
    ".\n",
    "___"
   ],
   "metadata": {
    "collapsed": false
   }
  },
  {
   "cell_type": "code",
   "outputs": [],
   "source": [
    "function = df.groupby(['function'])['function'].count()\n",
    "function"
   ],
   "metadata": {
    "collapsed": false
   }
  },
  {
   "cell_type": "markdown",
   "source": [
    ".\n",
    "___"
   ],
   "metadata": {
    "collapsed": false
   }
  },
  {
   "cell_type": "code",
   "outputs": [],
   "source": [
    "industry = df.groupby(['industry'])['industry'].count()\n",
    "industry"
   ],
   "metadata": {
    "collapsed": false
   }
  },
  {
   "cell_type": "markdown",
   "source": [
    "# Data Cleansing"
   ],
   "metadata": {
    "collapsed": false
   }
  },
  {
   "cell_type": "code",
   "outputs": [],
   "source": [
    "df.isnull().sum()"
   ],
   "metadata": {
    "collapsed": false
   }
  },
  {
   "cell_type": "code",
   "outputs": [],
   "source": [
    "df.fillna(\" \", inplace=True)\n",
    "df.isna().sum()"
   ],
   "metadata": {
    "collapsed": false
   }
  },
  {
   "cell_type": "code",
   "outputs": [],
   "source": [
    "df['full_description'] = df[\n",
    "    ['title', 'location', 'salary_range', 'company_profile', 'description', 'requirements', 'benefits',\n",
    "     'employment_type', 'required_experience', 'required_education', 'industry', 'function', 'department']].apply(\n",
    "    lambda x: ' '.join(x), axis=1)\n",
    "\n",
    "df.drop(columns=['title',\n",
    "                 'location',\n",
    "                 'salary_range',\n",
    "                 'company_profile',\n",
    "                 'description',\n",
    "                 'requirements',\n",
    "                 'benefits',\n",
    "                 'employment_type',\n",
    "                 'required_experience',\n",
    "                 'required_education',\n",
    "                 'industry',\n",
    "                 'function',\n",
    "                 'department'], inplace=True)"
   ],
   "metadata": {
    "collapsed": false
   }
  },
  {
   "cell_type": "code",
   "outputs": [],
   "source": [
    "df.head()"
   ],
   "metadata": {
    "collapsed": false
   }
  },
  {
   "cell_type": "code",
   "outputs": [],
   "source": [
    "df['full_description'] = df['full_description'].apply(clean_text)"
   ],
   "metadata": {
    "collapsed": false
   }
  },
  {
   "cell_type": "code",
   "outputs": [],
   "source": [
    "df['full_description'] = df['full_description'].apply(normalize_text)"
   ],
   "metadata": {
    "collapsed": false
   }
  },
  {
   "cell_type": "code",
   "outputs": [],
   "source": [
    "df.head()"
   ],
   "metadata": {
    "collapsed": false
   }
  },
  {
   "cell_type": "code",
   "outputs": [],
   "source": [
    "df.to_csv(os.path.join(DATA_ROOT, \"fake_job_postings_clean.csv\"), index=False)"
   ],
   "metadata": {
    "collapsed": false
   }
  },
  {
   "cell_type": "markdown",
   "source": [
    "# Prepare pipeline"
   ],
   "metadata": {
    "collapsed": false
   }
  },
  {
   "cell_type": "code",
   "outputs": [],
   "source": [
    "PIPELINE_NAME = \"real-or-fake-jobs-pipeline\"\n",
    "SCHEMA_PIPELINE_NAME = \"real-or-fake-jobs-tfdv-schema\"\n",
    "\n",
    "PIPELINE_ROOT = os.path.join('celvineadiputra-pipelines', PIPELINE_NAME)\n",
    "\n",
    "METADATA_PATH = os.path.join('metadata', PIPELINE_NAME, 'metadata.db')\n",
    "\n",
    "SERVING_MODEL_DIR = os.path.join('serving_model', PIPELINE_NAME)"
   ],
   "metadata": {},
   "execution_count": 0
  },
  {
   "cell_type": "code",
   "execution_count": null,
   "metadata": {},
   "outputs": [],
   "source": [
    "interactive_context = InteractiveContext(pipeline_root=PIPELINE_ROOT)"
   ]
  },
  {
   "cell_type": "markdown",
   "source": [
    "## Data Ingestion\n",
    "##### ExampleGen"
   ],
   "metadata": {
    "collapsed": false
   }
  },
  {
   "cell_type": "code",
   "outputs": [],
   "source": [
    "output = example_gen_pb2.Output(\n",
    "    split_config=example_gen_pb2.SplitConfig(splits=[\n",
    "        example_gen_pb2.SplitConfig.Split(name=\"train\", hash_buckets=8),\n",
    "        example_gen_pb2.SplitConfig.Split(name=\"eval\", hash_buckets=2)\n",
    "    ])\n",
    ")\n",
    "example_gen = CsvExampleGen(input_base=DATA_ROOT, output_config=output)"
   ],
   "metadata": {
    "collapsed": false
   }
  },
  {
   "cell_type": "code",
   "outputs": [],
   "source": [
    "interactive_context.run(example_gen)"
   ],
   "metadata": {
    "collapsed": false
   }
  },
  {
   "cell_type": "markdown",
   "source": [
    "## Data Validation\n",
    "##### StatisticsGen"
   ],
   "metadata": {
    "collapsed": false
   }
  },
  {
   "cell_type": "code",
   "outputs": [],
   "source": [
    "statistics_gen = StatisticsGen(\n",
    "    examples=example_gen.outputs[\"examples\"]\n",
    ")\n",
    "\n",
    "interactive_context.run(statistics_gen)"
   ],
   "metadata": {
    "collapsed": false
   }
  },
  {
   "cell_type": "code",
   "outputs": [],
   "source": [
    "interactive_context.show(statistics_gen.outputs[\"statistics\"])"
   ],
   "metadata": {
    "collapsed": false
   }
  },
  {
   "cell_type": "markdown",
   "source": [
    "## Data Schema\n",
    "##### SchemaGen"
   ],
   "metadata": {
    "collapsed": false
   }
  },
  {
   "cell_type": "code",
   "outputs": [],
   "source": [
    "schema_gen = SchemaGen(statistics=statistics_gen.outputs[\"statistics\"])\n",
    "interactive_context.run(schema_gen)"
   ],
   "metadata": {
    "collapsed": false
   }
  },
  {
   "cell_type": "code",
   "outputs": [],
   "source": [
    "interactive_context.show(schema_gen.outputs[\"schema\"])"
   ],
   "metadata": {
    "collapsed": false
   }
  },
  {
   "cell_type": "markdown",
   "source": [
    "## Example Validator"
   ],
   "metadata": {
    "collapsed": false
   }
  },
  {
   "cell_type": "code",
   "outputs": [],
   "source": [
    "example_validator = ExampleValidator(\n",
    "    statistics=statistics_gen.outputs['statistics'],\n",
    "    schema=schema_gen.outputs['schema']\n",
    ")\n",
    "interactive_context.run(example_validator)"
   ],
   "metadata": {
    "collapsed": false
   }
  },
  {
   "cell_type": "code",
   "outputs": [],
   "source": [
    "interactive_context.show(example_validator.outputs['anomalies'])"
   ],
   "metadata": {
    "collapsed": false
   }
  },
  {
   "cell_type": "markdown",
   "source": [
    "# Data Preprocessing\n",
    "##### Transform"
   ],
   "metadata": {
    "collapsed": false
   }
  },
  {
   "cell_type": "code",
   "outputs": [],
   "source": [
    "TRANSFORM_MODULE_FILE = \"real_or_fake_job_transform.py\""
   ],
   "metadata": {
    "collapsed": false
   }
  },
  {
   "cell_type": "code",
   "outputs": [],
   "source": [
    "%%writefile {TRANSFORM_MODULE_FILE}\n",
    "\n",
    "import tensorflow as tf\n",
    "\n",
    "LABEL_KEY = \"fraudulent\"\n",
    "FEATURE_KEY = \"full_description\"\n",
    "\n",
    "\n",
    "def transformed_name(key):\n",
    "    return key + \"_xf\"\n",
    "\n",
    "\n",
    "def preprocessing_fn(inputs):\n",
    "    outputs = {}\n",
    "\n",
    "    outputs[transformed_name(FEATURE_KEY)] = tf.strings.lower(inputs[FEATURE_KEY])\n",
    "\n",
    "    outputs[transformed_name(LABEL_KEY)] = tf.cast(inputs[LABEL_KEY], tf.int64)\n",
    "\n",
    "    return outputs"
   ],
   "metadata": {
    "collapsed": false
   }
  },
  {
   "cell_type": "code",
   "outputs": [],
   "source": [
    "transform = Transform(\n",
    "    examples=example_gen.outputs['examples'],\n",
    "    schema=schema_gen.outputs['schema'],\n",
    "    module_file=os.path.abspath(TRANSFORM_MODULE_FILE)\n",
    ")\n",
    "interactive_context.run(transform)"
   ],
   "metadata": {
    "collapsed": false
   }
  },
  {
   "cell_type": "markdown",
   "source": [
    "# Model Development"
   ],
   "metadata": {
    "collapsed": false
   }
  },
  {
   "cell_type": "code",
   "outputs": [],
   "source": [
    "TRAINER_MODULE_FILE = \"real_or_fake_job_trainer.py\""
   ],
   "metadata": {
    "collapsed": false
   }
  },
  {
   "cell_type": "code",
   "outputs": [],
   "source": [
    "%%writefile {TRAINER_MODULE_FILE}\n",
    "import tensorflow as tf\n",
    "import tensorflow_transform as tft\n",
    "from tensorflow.keras import layers\n",
    "import os\n",
    "import tensorflow_hub as hub\n",
    "from tfx.components.trainer.fn_args_utils import FnArgs\n",
    "\n",
    "LABEL_KEY = \"fraudulent\"\n",
    "FEATURE_KEY = \"full_description\"\n",
    "\n",
    "\n",
    "def transformed_name(key):\n",
    "    \"\"\"Renaming transformed features\"\"\"\n",
    "    return key + \"_xf\"\n",
    "\n",
    "\n",
    "def gzip_reader_fn(filenames):\n",
    "    \"\"\"Loads compressed data\"\"\"\n",
    "    return tf.data.TFRecordDataset(filenames, compression_type='GZIP')\n",
    "\n",
    "\n",
    "def input_fn(file_pattern,\n",
    "             tf_transform_output,\n",
    "             num_epochs,\n",
    "             batch_size=64) -> tf.data.Dataset:\n",
    "    \"\"\"Get post_tranform feature & create batches of data\"\"\"\n",
    "\n",
    "    # Get post_transform feature spec\n",
    "    transform_feature_spec = (\n",
    "        tf_transform_output.transformed_feature_spec().copy())\n",
    "\n",
    "    # create batches of data\n",
    "    dataset = tf.data.experimental.make_batched_features_dataset(\n",
    "        file_pattern=file_pattern,\n",
    "        batch_size=batch_size,\n",
    "        features=transform_feature_spec,\n",
    "        reader=gzip_reader_fn,\n",
    "        num_epochs=num_epochs,\n",
    "        label_key=transformed_name(LABEL_KEY))\n",
    "    return dataset\n",
    "\n",
    "\n",
    "os.environ['TFHUB_CACHE_DIR'] = '/hub_chace'\n",
    "embed = hub.KerasLayer(\"https://tfhub.dev/google/universal-sentence-encoder/4\")\n",
    "\n",
    "VOCAB_SIZE = 10000\n",
    "SEQUENCE_LENGTH = 100\n",
    "\n",
    "vectorize_layer = layers.TextVectorization(\n",
    "    standardize=\"lower_and_strip_punctuation\",\n",
    "    max_tokens=VOCAB_SIZE,\n",
    "    output_mode='int',\n",
    "    output_sequence_length=SEQUENCE_LENGTH)\n",
    "\n",
    "embedding_dim = 16\n",
    "\n",
    "\n",
    "def model_builder():\n",
    "    inputs = tf.keras.Input(shape=(1,), name=transformed_name(FEATURE_KEY), dtype=tf.string)\n",
    "    reshaped_narrative = tf.reshape(inputs, [-1])\n",
    "    x = vectorize_layer(reshaped_narrative)\n",
    "    x = layers.Embedding(VOCAB_SIZE, embedding_dim, name=\"embedding\")(x)\n",
    "    x = layers.GlobalAveragePooling1D()(x)\n",
    "    x = layers.Dense(64, activation='relu')(x)\n",
    "    x = layers.Dense(32, activation=\"relu\")(x)\n",
    "    outputs = layers.Dense(1, activation='sigmoid')(x)\n",
    "\n",
    "    model = tf.keras.Model(inputs=inputs, outputs=outputs)\n",
    "\n",
    "    model.compile(\n",
    "        loss='binary_crossentropy',\n",
    "        optimizer=tf.keras.optimizers.Adam(0.01),\n",
    "        metrics=[tf.keras.metrics.BinaryAccuracy()]\n",
    "\n",
    "    )\n",
    "\n",
    "    model.summary()\n",
    "    return model\n",
    "\n",
    "\n",
    "def _get_serve_tf_examples_fn(model, tf_transform_output):\n",
    "    model.tft_layer = tf_transform_output.transform_features_layer()\n",
    "\n",
    "    @tf.function\n",
    "    def serve_tf_examples_fn(serialized_tf_examples):\n",
    "        feature_spec = tf_transform_output.raw_feature_spec()\n",
    "\n",
    "        feature_spec.pop(LABEL_KEY)\n",
    "\n",
    "        parsed_features = tf.io.parse_example(serialized_tf_examples, feature_spec)\n",
    "\n",
    "        transformed_features = model.tft_layer(parsed_features)\n",
    "\n",
    "        # get predictions using the transformed features\n",
    "        return model(transformed_features)\n",
    "\n",
    "    return serve_tf_examples_fn\n",
    "\n",
    "\n",
    "def run_fn(fn_args: FnArgs) -> None:\n",
    "    log_dir = os.path.join(os.path.dirname(fn_args.serving_model_dir), 'logs')\n",
    "\n",
    "    tensorboard_callback = tf.keras.callbacks.TensorBoard(\n",
    "        log_dir=log_dir, update_freq='batch'\n",
    "    )\n",
    "\n",
    "    es = tf.keras.callbacks.EarlyStopping(monitor='val_binary_accuracy', mode='max', verbose=1, patience=10)\n",
    "    mc = tf.keras.callbacks.ModelCheckpoint(fn_args.serving_model_dir, monitor='val_binary_accuracy', mode='max',\n",
    "                                            verbose=1, save_best_only=True)\n",
    "\n",
    "    # Load the transform output\n",
    "    tf_transform_output = tft.TFTransformOutput(fn_args.transform_graph_path)\n",
    "\n",
    "    # Create batches of data\n",
    "    train_set = input_fn(fn_args.train_files, tf_transform_output, 10)\n",
    "    val_set = input_fn(fn_args.eval_files, tf_transform_output, 10)\n",
    "    vectorize_layer.adapt(\n",
    "        [j[0].numpy()[0] for j in [\n",
    "            i[0][transformed_name(FEATURE_KEY)]\n",
    "            for i in list(train_set)]])\n",
    "\n",
    "    # Build the model\n",
    "    model = model_builder()\n",
    "\n",
    "    # Train the model\n",
    "    model.fit(x=train_set,\n",
    "              validation_data=val_set,\n",
    "              callbacks=[tensorboard_callback, es, mc],\n",
    "              steps_per_epoch=1000,\n",
    "              validation_steps=1000,\n",
    "              epochs=10)\n",
    "    signatures = {\n",
    "        'serving_default':\n",
    "            _get_serve_tf_examples_fn(model, tf_transform_output).get_concrete_function(\n",
    "                tf.TensorSpec(\n",
    "                    shape=[None],\n",
    "                    dtype=tf.string,\n",
    "                    name='examples'))\n",
    "    }\n",
    "    model.save(fn_args.serving_model_dir, save_format='tf', signatures=signatures)"
   ],
   "metadata": {
    "collapsed": false
   }
  },
  {
   "cell_type": "markdown",
   "source": [
    "##### Trainer"
   ],
   "metadata": {
    "collapsed": false
   }
  },
  {
   "cell_type": "code",
   "outputs": [],
   "source": [
    "from tfx.proto import trainer_pb2\n",
    "\n",
    "trainer = Trainer(\n",
    "    module_file=os.path.abspath(TRAINER_MODULE_FILE),\n",
    "    examples=transform.outputs['transformed_examples'],\n",
    "    transform_graph=transform.outputs['transform_graph'],\n",
    "    schema=schema_gen.outputs['schema'],\n",
    "    train_args=trainer_pb2.TrainArgs(splits=['train']),\n",
    "    eval_args=trainer_pb2.EvalArgs(splits=['eval'])\n",
    ")\n",
    "interactive_context.run(trainer)\n"
   ],
   "metadata": {
    "collapsed": false
   }
  },
  {
   "cell_type": "markdown",
   "source": [
    "##### Resolver"
   ],
   "metadata": {
    "collapsed": false
   }
  },
  {
   "cell_type": "code",
   "outputs": [],
   "source": [
    "from tfx.dsl.components.common.resolver import Resolver\n",
    "from tfx.dsl.input_resolution.strategies.latest_blessed_model_strategy import LatestBlessedModelStrategy\n",
    "from tfx.types import Channel\n",
    "from tfx.types.standard_artifacts import Model, ModelBlessing\n",
    "\n",
    "model_resolver = Resolver(\n",
    "    strategy_class=LatestBlessedModelStrategy,\n",
    "    model=Channel(type=Model),\n",
    "    model_blessing=Channel(type=ModelBlessing)\n",
    ").with_id('Latest_blessed_model_resolver')\n",
    "\n",
    "interactive_context.run(model_resolver)"
   ],
   "metadata": {
    "collapsed": false
   }
  },
  {
   "cell_type": "markdown",
   "source": [
    "##### Evaluator"
   ],
   "metadata": {
    "collapsed": false
   }
  },
  {
   "cell_type": "code",
   "outputs": [],
   "source": [
    "import tensorflow_model_analysis as tfma\n",
    "\n",
    "eval_config = tfma.EvalConfig(\n",
    "    model_specs=[tfma.ModelSpec(label_key='is_sarcastic')],\n",
    "    slicing_specs=[tfma.SlicingSpec()],\n",
    "    metrics_specs=[\n",
    "        tfma.MetricsSpec(metrics=[\n",
    "\n",
    "            tfma.MetricConfig(class_name='ExampleCount'),\n",
    "            tfma.MetricConfig(class_name='AUC'),\n",
    "            tfma.MetricConfig(class_name='FalsePositives'),\n",
    "            tfma.MetricConfig(class_name='TruePositives'),\n",
    "            tfma.MetricConfig(class_name='FalseNegatives'),\n",
    "            tfma.MetricConfig(class_name='TrueNegatives'),\n",
    "            tfma.MetricConfig(class_name='BinaryAccuracy',\n",
    "                              threshold=tfma.MetricThreshold(\n",
    "                                  value_threshold=tfma.GenericValueThreshold(\n",
    "                                      lower_bound={'value': 0.5}),\n",
    "                                  change_threshold=tfma.GenericChangeThreshold(\n",
    "                                      direction=tfma.MetricDirection.HIGHER_IS_BETTER,\n",
    "                                      absolute={'value': 0.0001})\n",
    "                              )\n",
    "                              )\n",
    "        ])\n",
    "    ]\n",
    ")"
   ],
   "metadata": {
    "collapsed": false
   }
  },
  {
   "cell_type": "code",
   "outputs": [],
   "source": [
    "from tfx.components import Evaluator\n",
    "\n",
    "evaluator = Evaluator(\n",
    "    examples=example_gen.outputs['examples'],\n",
    "    model=trainer.outputs['model'],\n",
    "    baseline_model=model_resolver.outputs['model'],\n",
    "    eval_config=eval_config)\n",
    "\n",
    "interactive_context.run(evaluator)"
   ],
   "metadata": {
    "collapsed": false
   }
  },
  {
   "cell_type": "code",
   "outputs": [],
   "source": [
    "# Visualize the evaluation results\n",
    "eval_result = evaluator.outputs['evaluation'].get()[0].uri\n",
    "tfma_result = tfma.load_eval_result(eval_result)\n",
    "tfma.view.render_slicing_metrics(tfma_result)\n",
    "tfma.addons.fairness.view.widget_view.render_fairness_indicator(\n",
    "    tfma_result\n",
    ")"
   ],
   "metadata": {
    "collapsed": false
   }
  },
  {
   "cell_type": "markdown",
   "source": [
    "##### Pusher"
   ],
   "metadata": {
    "collapsed": false
   }
  },
  {
   "cell_type": "code",
   "outputs": [],
   "source": [
    "from tfx.components import Pusher\n",
    "from tfx.proto import pusher_pb2\n",
    "\n",
    "pusher = Pusher(\n",
    "    model=trainer.outputs['model'],\n",
    "    model_blessing=evaluator.outputs['blessing'],\n",
    "    push_destination=pusher_pb2.PushDestination(\n",
    "        filesystem=pusher_pb2.PushDestination.Filesystem(\n",
    "            base_directory='serving_model_dir/real-or-fake-jobs-detection-model'))\n",
    "\n",
    ")\n",
    "\n",
    "interactive_context.run(pusher)"
   ],
   "metadata": {
    "collapsed": false
   }
  }
 ],
 "metadata": {
  "kernelspec": {
   "display_name": "Python 3.8.13 ('tfx-pipeline-sarcasm')",
   "language": "python",
   "name": "python3"
  },
  "language_info": {
   "name": "python",
   "version": "3.8.13"
  },
  "orig_nbformat": 4,
  "vscode": {
   "interpreter": {
    "hash": "614e1ab0f437a5a6ca9188a51b08d8b6cdc6656f6716327c66ae989e77e3b835"
   }
  }
 },
 "nbformat": 4,
 "nbformat_minor": 2
}
